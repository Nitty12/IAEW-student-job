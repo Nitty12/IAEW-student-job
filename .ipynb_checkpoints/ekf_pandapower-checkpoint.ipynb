{
 "cells": [
  {
   "cell_type": "markdown",
   "metadata": {},
   "source": [
    "Import statements\n",
    "Need to have the following libaries:\n",
    "* pandapower  \n",
    "* filterpy  \n",
    "* simbench  \n",
    "* numpy  \n",
    "* pandas  \n",
    "* matplotlib  \n",
    "  \n",
    "Note: files $\\textbf{Matrix_calc.py, ppc_conversion.py}$ and $\\textbf{matrix_base.py}$ should be placed in the working directory. These are edited as per the requirement"
   ]
  },
  {
   "cell_type": "code",
   "execution_count": 1,
   "metadata": {},
   "outputs": [],
   "source": [
    "import pandapower as pp\n",
    "from Matrix_calc import buildAdmittanceMat, eppci_conv, create_hx, create_jac_hx, create_jac_inp\n",
    "from pandapower.plotting.plotly import simple_plotly, pf_res_plotly\n",
    "from pandapower.estimation.results import eppci2pp\n",
    "from pandapower.estimation import estimate\n",
    "from ppc_conversion import PQ_indices\n",
    "import filterpy\n",
    "from filterpy.kalman import ExtendedKalmanFilter\n",
    "import simbench as sb\n",
    "import numpy as np\n",
    "import pandas as pd\n",
    "import matplotlib.pyplot as plt"
   ]
  },
  {
   "cell_type": "markdown",
   "metadata": {},
   "source": [
    "Setting print option for pandas dataframe to visualize maximum details"
   ]
  },
  {
   "cell_type": "code",
   "execution_count": 2,
   "metadata": {},
   "outputs": [],
   "source": [
    "pd.set_option('display.max_rows', 500)\n",
    "pd.set_option('display.max_columns', 500)\n",
    "pd.set_option('display.width', 1000)"
   ]
  },
  {
   "cell_type": "markdown",
   "metadata": {},
   "source": [
    "Retrieving sample distribution grid from simbench"
   ]
  },
  {
   "cell_type": "code",
   "execution_count": 3,
   "metadata": {},
   "outputs": [],
   "source": [
    "#retrieving sample grid from simbench\n",
    "sb_code = \"1-LV-rural1--0-sw\"\n",
    "net = sb.get_simbench_net(sb_code)\n",
    "# in simbench sgen is positive for generation but in pandapower sgen is negative for generation\n",
    "# converting positive value to negative for use in pandapower\n",
    "net.sgen.loc[:, ['p_mw', 'q_mvar']] *= -1\n"
   ]
  },
  {
   "cell_type": "markdown",
   "metadata": {},
   "source": [
    "Creating different measurements and adding it to the network  \n",
    "Measurements are the from the power flow result of the grid with an added random noise     \n",
    "\n",
    "Current measurements: $\\textbf{z}$  \n",
    "* P_(non slack buses)    \n",
    "* P_(slack bus) \n",
    "* P_(lines)\n",
    "* Q_(non slack buses)    \n",
    "* Q_(slack bus)        \n",
    "* Q_(lines)  \n",
    "* V_(slack bus)  "
   ]
  },
  {
   "cell_type": "code",
   "execution_count": 4,
   "metadata": {},
   "outputs": [],
   "source": [
    "# create measurements\n",
    "def make_meas(meas_type, element_type, value, std_dev, element, side=None):\n",
    "    # random gaussian noise to superimpose with the measurements\n",
    "    rvalue = std_dev * np.random.randn() + value\n",
    "    pp.create_measurement(net, meas_type=meas_type, element_type=element_type, value=rvalue, std_dev=std_dev,\n",
    "                          element=element, side=side, check_existing=True)\n",
    "\n",
    "\n",
    "def create_measurements():\n",
    "    # running power flow to know the state of the network to later compare with the estimation  result\n",
    "    pp.runpp(net)\n",
    "\n",
    "    # real state to compare with\n",
    "    real_state = net.res_bus.loc[:, ['vm_pu', 'va_degree']]\n",
    "\n",
    "    # bus measurements\n",
    "    bus_meas = net.res_bus.loc[:, ['vm_pu', 'p_mw', 'q_mvar']]\n",
    "\n",
    "    # line measurements\n",
    "    line_meas = net.res_line.loc[:, ['p_from_mw', 'q_from_mvar']]\n",
    "\n",
    "    # standard deviations\n",
    "    std_v_bus = 0.003  # in pu\n",
    "    std_pq_bus_pu = 0.001\n",
    "    std_pq_line_pu = 0.001\n",
    "\n",
    "    power_base = 0.160  # base power = 160 KVA\n",
    "    std_p_bus = std_pq_bus_pu * power_base\n",
    "    std_q_bus = std_pq_bus_pu * power_base\n",
    "    std_p_line = std_pq_line_pu * power_base\n",
    "    std_q_line = std_pq_line_pu * power_base\n",
    "\n",
    "    trafo_to_bus = net.trafo.loc[0, 'lv_bus']\n",
    "    trafo_from_bus = net.trafo.loc[0, 'hv_bus']\n",
    "\n",
    "    # # Bus power measurements\n",
    "    # Note: in pandapower for measurements, positive power is generation\n",
    "    #       but in power flow results(for buses) positive power is consumption\n",
    "    #       so changing the sign while calling make_meas\n",
    "    meas_type = \"p\"\n",
    "    element_type = \"bus\"\n",
    "    for i in bus_meas.index:\n",
    "        make_meas(meas_type, element_type, -1 * bus_meas.loc[i, 'p_mw'], std_p_bus, i)\n",
    "\n",
    "    # measurements of the bus to which the transformer is connected(Slack bus)\n",
    "    meas_type = \"p\"\n",
    "    element_type = \"bus\"\n",
    "    make_meas(meas_type, element_type, -1 * bus_meas.loc[trafo_from_bus, 'p_mw'], std_p_bus, trafo_from_bus)\n",
    "\n",
    "    # Line power measurements\n",
    "    meas_type = \"p\"\n",
    "    element_type = \"line\"\n",
    "    for i in line_meas.index:\n",
    "        make_meas(meas_type, element_type, line_meas.loc[i, 'p_from_mw'], std_p_line, i,\n",
    "                  side=net.line.loc[i, 'from_bus'])\n",
    "\n",
    "    # # Bus power measurements\n",
    "    # # Note: in pandapower for measurements, positive power is generation\n",
    "    # #       but in power flow results(for buses) positive power is consumption\n",
    "    # #       so changing the sign while calling make_meas\n",
    "    meas_type = \"q\"\n",
    "    element_type = \"bus\"\n",
    "    for i in bus_meas.index:\n",
    "        make_meas(meas_type, element_type, -1 * bus_meas.loc[i, 'q_mvar'], std_q_bus, i)\n",
    "\n",
    "    # measurements of the bus to which the transformer is connected(Slack bus)\n",
    "    meas_type = \"q\"\n",
    "    element_type = \"bus\"\n",
    "    make_meas(meas_type, element_type, -1 * bus_meas.loc[trafo_from_bus, 'q_mvar'], std_q_bus, trafo_from_bus)\n",
    "\n",
    "\n",
    "    meas_type = \"q\"\n",
    "    element_type = \"line\"\n",
    "    for i in line_meas.index:\n",
    "        make_meas(meas_type, element_type, line_meas.loc[i, 'q_from_mvar'], std_q_line, i,\n",
    "                  side=net.line.loc[i, 'from_bus'])\n",
    "\n",
    "    # # Bus voltage measurements\n",
    "    # meas_type = \"v\"\n",
    "    # element_type = \"bus\"\n",
    "    # for i in bus_meas.index:\n",
    "    #     make_meas(meas_type, element_type, bus_meas.loc[i, 'vm_pu'], std_v_bus, i)\n",
    "\n",
    "    # Slack bus voltage measurement\n",
    "    meas_type = \"v\"\n",
    "    element_type = \"bus\"\n",
    "    make_meas(meas_type, element_type, bus_meas.loc[trafo_from_bus, 'vm_pu'], std_v_bus, trafo_from_bus)\n",
    "\n",
    "    # print('\\n', \"net.measurements: \")\n",
    "    # print(net.measurement.loc[:, ['measurement_type', 'element_type', 'element', 'value', 'std_dev', 'side']])\n",
    "    # print(net.measurement.query('measurement_type == \"p\" and element_type ==\"bus\"')\n",
    "    #       .loc[:, ['measurement_type', 'element_type', 'element', 'value', 'std_dev']])\n",
    "\n",
    "\n",
    "create_measurements()\n"
   ]
  },
  {
   "cell_type": "markdown",
   "metadata": {},
   "source": [
    "# Kalman Filter problem formulation  "
   ]
  },
  {
   "cell_type": "markdown",
   "metadata": {},
   "source": [
    "The state vector x is the voltage magnitudes and phase angles of each bus.   \n",
    "state, $x = [\\theta_1..\\theta_N, V_1..V_N]^T$  \n",
    "If there are N number of buses, then we have active and reactive power injections $\\textbf{u}$ described as:  \n",
    "input, $u = [P_{bus}, Q_{bus}] = [P_1..P_N, Q_1..Q_N]^T$  \n",
    "Measurements, $z = [P_{bus}, P_{line}, Q_{bus}, Q_{line}, V_{slack bus}]^T$  \n",
    "  \n",
    "Power flow equations:  \n",
    "$g_P = P_i - V_i\\sum_{j=1}^{N} V_j[G_{ij}cos\\theta_{ij} + B_{ij}sin\\theta_{ij}] = 0$  \n",
    "$g_Q = Q_i - V_i\\sum_{j=1}^{N} V_j[G_{ij}sin\\theta_{ij} - B_{ij}cos\\theta_{ij}] = 0$  \n",
    "  \n",
    "Linearising these power flow equations:  \n",
    "$-J\\Delta x + I\\Delta u +e = 0$  \n",
    "where $\\textit{J}$ is the jacobian of inputs P and Q wrt states $\\theta$ and V and $\\textit{I}$ is identity matrix    \n",
    "  \n",
    "$\\begin{equation*}\n",
    "J = \n",
    "\\begin{bmatrix}\n",
    "\\frac{\\delta g_P}{\\delta\\theta} & \\frac{\\delta g_P}{\\delta V} \\\\\n",
    "\\frac{\\delta g_Q}{\\delta\\theta} & \\frac{\\delta g_Q}{\\delta V} \\\\\n",
    "\\end{bmatrix}\n",
    "\\end{equation*}$  \n",
    "  \n",
    "Rearranging, we get:  \n",
    "$x_k = x_{k-1} + {J_k}^{-1} [u_{k} - u_{k-1}] + {J_k}^{-1} e$  \n",
    "  \n",
    "$Prediction=\\left\\{\\begin{array}\\\n",
    "x_k^- = x_{k-1}^+ + {J_k}^{-1} [u_{k} - u_{k-1}]\\\\\n",
    "P_k^- = P_{k-1}^+ + Q\\end{array}\\right.$\n",
    "  \n",
    "$Correction=\\left\\{\\begin{array}\\\n",
    "K_k = P_{k}^-{H_k}^T {(H_k{P_k}^-{H_k}^T + R)}^{-1}\\\\\n",
    "x_k^+ = x_{k}^- + {K_k}(z_{k} - h_{k})\\\\\n",
    "P_{k}^+ = (I - {K_k}H_k){P_k}^-\\end{array}\\right.$  \n",
    "  \n",
    "Where\n",
    "* $P_k$ is the state error covariance matrix at time step k\n",
    "* $Q$ is process noise caused due to linearization errors\n",
    "* $K$ is the Kalman gain\n",
    "* $R$ is the measurement covariance matrix\n",
    "* $H$ is the Jacobian matrix of the measurement function h\n",
    "* $J$ is the Jacobian matrix of the inputs P and Q injections\n",
    "* $z$ is measurement vector and $h$ is the measurement estimations"
   ]
  },
  {
   "cell_type": "markdown",
   "metadata": {},
   "source": [
    "Converting pandapower network to pypower network format $\\textbf{eppci}$  \n",
    "finding measurement estimations, measurement jacobian and input jacobian"
   ]
  },
  {
   "cell_type": "code",
   "execution_count": 5,
   "metadata": {
    "scrolled": true
   },
   "outputs": [],
   "source": [
    "YMat, Yf, Yt, ppc, eppci = buildAdmittanceMat(net, init=\"flat\", calculate_voltage_angles=False)\n",
    "\n",
    "# measurement estimations, h\n",
    "h = create_hx(eppci.E, net, eppci)\n",
    "# measurement jacobian, H\n",
    "H = create_jac_hx(eppci.E, net, eppci)\n",
    "#  input jacobian, J\n",
    "J = create_jac_inp(eppci.E, net, eppci)\n",
    "\n",
    "np.set_printoptions(threshold=np.inf)\n",
    "# print(H)"
   ]
  },
  {
   "cell_type": "markdown",
   "metadata": {},
   "source": [
    "Getting the input PQ injections"
   ]
  },
  {
   "cell_type": "code",
   "execution_count": 6,
   "metadata": {},
   "outputs": [],
   "source": [
    "net = eppci2pp(net, ppc, eppci)\n",
    "# for getting indices of PQ injections in the measurement vector\n",
    "PQind = PQ_indices(ppc)\n",
    "# obtaining PQ injections from the measurement vector\n",
    "PQ = eppci.z[PQind].reshape(-1,1)\n",
    "UkPrev = PQ"
   ]
  },
  {
   "cell_type": "markdown",
   "metadata": {},
   "source": [
    "In the Kalman filter model:  \n",
    "State transition matrix $F$ is identity matrix  \n",
    "$B$ matrix is the inverse of $J$  \n",
    "$x_k^- = x_{k-1}^+ + {J_k}^{-1} [u_{k} - u_{k-1}]$  \n",
    "$x_k^- = Fx_{k-1}^+ + B [u_{k} - u_{k-1}]$"
   ]
  },
  {
   "cell_type": "markdown",
   "metadata": {},
   "source": [
    "Creating the ExtendedKalmanFilter object for doing the prediction and correction steps  \n",
    "Setting the corresponding variables"
   ]
  },
  {
   "cell_type": "code",
   "execution_count": 7,
   "metadata": {},
   "outputs": [],
   "source": [
    "nBus = int(J.shape[0]/2)\n",
    "\n",
    "dk = ExtendedKalmanFilter(dim_x = 2*nBus, dim_z= len(net.measurement), dim_u= len(PQ))\n",
    "            \n",
    "A = np.eye(2*nBus)   \n",
    "# calculating the inverse of J with pseudo inverse function(normal inverse will not work)\n",
    "J_inv = np.linalg.pinv(J)\n",
    "B = J_inv\n",
    "# measurement noise, R\n",
    "R = 0.001*np.eye(len(net.measurement))\n",
    "# process noise, Q\n",
    "Q = 0.001*B*np.eye(2*nBus)\n",
    "\n",
    "\n",
    "# state vector is stored in eppci.E\n",
    "eppci.E = eppci.E.reshape(-1,1)\n",
    "dk.x = eppci.E\n",
    "dk.F = A\n",
    "dk.B = B\n",
    "dk.R = R\n",
    "dk.Q = Q\n"
   ]
  },
  {
   "cell_type": "markdown",
   "metadata": {},
   "source": [
    "Getting the given load profile of the network, creating corresponding measurements and applying Kalman filter algorithm  "
   ]
  },
  {
   "cell_type": "code",
   "execution_count": 8,
   "metadata": {},
   "outputs": [
    {
     "name": "stderr",
     "output_type": "stream",
     "text": [
      "E:\\RWTH Aachen\\Sem 3\\IAEW\\simbench\\converter\\auxiliary.py:121: FutureWarning:\n",
      "\n",
      "Sorting because non-concatenation axis is not aligned. A future version\n",
      "of pandas will change to not sort by default.\n",
      "\n",
      "To accept the future behavior, pass 'sort=False'.\n",
      "\n",
      "To retain the current behavior and silence the warning, pass 'sort=True'.\n",
      "\n",
      "\n"
     ]
    },
    {
     "name": "stdout",
     "output_type": "stream",
     "text": [
      "Time step: 0 . 1 . 2 . 3 . 4 . 5 . 6 . 7 . 8 . 9 . 10 . 11 . 12 . 13 . 14 . 15 . 16 . 17 . 18 . 19 . 20 . 21 . 22 . 23 . 24 . 25 . 26 . 27 . 28 . 29 . 30 . 31 . 32 . 33 . 34 . 35 . 36 . 37 . 38 . 39 . 40 . 41 . 42 . 43 . 44 . 45 . 46 . 47 . 48 . 49 . 50 . 51 . 52 . 53 . 54 . 55 . 56 . 57 . 58 . 59 . 60 . 61 . 62 . 63 . 64 . 65 . 66 . 67 . 68 . 69 . 70 . 71 . 72 . 73 . 74 . 75 . 76 . 77 . 78 . 79 . 80 . 81 . 82 . 83 . 84 . 85 . 86 . 87 . 88 . 89 . 90 . 91 . 92 . 93 . 94 . 95 . 96 . 97 . 98 . 99 . "
     ]
    }
   ],
   "source": [
    "profiles = sb.get_absolute_values(net, profiles_instead_of_study_cases=True)\n",
    "\n",
    "# for storing the states\n",
    "time_steps = range(100)\n",
    "# array to store the estimated states for each time step\n",
    "xs = np.zeros((2 * nBus, len(time_steps)))\n",
    "# array to store the real states for each time step\n",
    "real_xs = np.zeros((2 * nBus, len(time_steps)))\n",
    "\n",
    "for ts in time_steps:\n",
    "    # updating the network with the given load profile and creating measurements\n",
    "    net.load.loc[:, 'p_mw'] = profiles[('load', 'p_mw')].loc[ts, :]\n",
    "    net.load.loc[:, 'q_mvar'] = profiles[('load', 'q_mvar')].loc[ts, :]\n",
    "    create_measurements()\n",
    "\n",
    "    # running power flow to know the state of the network to later compare with the estimation  result\n",
    "    pp.runpp(net)\n",
    "\n",
    "    # real state to compare with\n",
    "    real_va_degrees = net.res_bus.loc[:, ['va_degree']].values\n",
    "    real_vm_pu = net.res_bus.loc[:, ['vm_pu']].values\n",
    "    real_state = np.concatenate((real_va_degrees, real_vm_pu))\n",
    "\n",
    "    # Finding input jacobian at current state\n",
    "    net, ppc, eppci = eppci_conv(net)\n",
    "    J = create_jac_inp(eppci.E, net, eppci)\n",
    "    # updating the current B and Q matrices with input jacobian inverse\n",
    "    J_inv = np.linalg.pinv(J)\n",
    "    B = J_inv\n",
    "    dk.B = B\n",
    "    dk.Q = 0.001*B*np.eye(2*nBus)\n",
    "    \n",
    "    # Calling prediction step of kalman filter aobject\n",
    "    Uk = eppci.z[PQind].reshape(-1, 1)\n",
    "    deltaU = Uk - UkPrev\n",
    "    dk.predict(deltaU)\n",
    "\n",
    "    # Current measurements\n",
    "    z = eppci.z.reshape(-1, 1)\n",
    "    # subtracting the angle of slack bus from all bus angles after prediction\n",
    "    dk.x[:nBus] = dk.x[:nBus] - dk.x[nBus - 1]\n",
    "\n",
    "    # Calling correction step of kalman filter object\n",
    "    dk.update(z, create_jac_hx, create_hx, args=(net, eppci), hx_args=(net, eppci))\n",
    "\n",
    "    # setting previous input to current input \n",
    "    UkPrev = Uk\n",
    "    # subtracting the angle of slack bus from all bus angles after correction\n",
    "    dk.x[:nBus] = dk.x[:nBus] - dk.x[nBus - 1]\n",
    "    \n",
    "    # saving the current estimated states and real states\n",
    "    eppci.E = dk.x.ravel()\n",
    "    xs[:, ts] = eppci.E\n",
    "    real_xs[:, ts] = real_state.ravel()\n",
    "    \n",
    "    if ts ==0:\n",
    "        print(\"Time step:\", end=\" \")\n",
    "    print(ts, end=\" . \")\n",
    "\n",
    "# converting radians to degrees\n",
    "xs[:15,:] = xs[:15,:]*(180/np.pi)"
   ]
  },
  {
   "cell_type": "code",
   "execution_count": 9,
   "metadata": {},
   "outputs": [
    {
     "data": {
      "text/plain": [
       "<matplotlib.legend.Legend at 0x14dd9610>"
      ]
     },
     "execution_count": 9,
     "metadata": {},
     "output_type": "execute_result"
    },
    {
     "data": {
      "image/png": "[encoded data removed]",
      "text/plain": [
       "<Figure size 432x288 with 1 Axes>"
      ]
     },
     "metadata": {
      "needs_background": "light"
     },
     "output_type": "display_data"
    }
   ],
   "source": [
    "# Plotting the estimated and real values of a particular state variable\n",
    "# eg in case of 15 bus, 0 - 14 are bus voltage angles and 15- 29 are voltage magnitudes \n",
    "num = 9\n",
    "plt.plot(time_steps[5:], xs[num,5:],'r', label='Estimated')\n",
    "plt.plot(time_steps[5:], real_xs[num,5:], 'b', label='Real')\n",
    "plt.xlabel('time steps')\n",
    "plt.ylabel('v_pu/ v_deg')\n",
    "plt.legend()"
   ]
  },
  {
   "cell_type": "code",
   "execution_count": 10,
   "metadata": {},
   "outputs": [
    {
     "data": {
      "text/plain": [
       "<matplotlib.legend.Legend at 0x15361950>"
      ]
     },
     "execution_count": 10,
     "metadata": {},
     "output_type": "execute_result"
    },
    {
     "data": {
      "image/png": "[encoded data removed]",
      "text/plain": [
       "<Figure size 432x288 with 1 Axes>"
      ]
     },
     "metadata": {
      "needs_background": "light"
     },
     "output_type": "display_data"
    }
   ],
   "source": [
    "plt.plot(time_steps[5:], (real_xs[num,5:] - xs[num,5:])*100/np.abs(real_xs[num,5:]),'r', label='Error in estimated state')\n",
    "plt.xlabel('time steps')\n",
    "plt.ylabel('% error')\n",
    "plt.legend()"
   ]
  },
  {
   "cell_type": "code",
   "execution_count": null,
   "metadata": {},
   "outputs": [],
   "source": []
  },
  {
   "cell_type": "code",
   "execution_count": null,
   "metadata": {},
   "outputs": [],
   "source": []
  }
 ],
 "metadata": {
  "kernelspec": {
   "display_name": "Python 3",
   "language": "python",
   "name": "python3"
  },
  "language_info": {
   "codemirror_mode": {
    "name": "ipython",
    "version": 3
   },
   "file_extension": ".py",
   "mimetype": "text/x-python",
   "name": "python",
   "nbconvert_exporter": "python",
   "pygments_lexer": "ipython3",
   "version": "3.7.2"
  }
 },
 "nbformat": 4,
 "nbformat_minor": 2
}
