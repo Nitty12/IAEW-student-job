{
 "cells": [
  {
   "cell_type": "code",
   "execution_count": 1,
   "metadata": {},
   "outputs": [],
   "source": [
    "import numpy as np\n",
    "import pandas as pd\n",
    "import matplotlib.pyplot as plt\n",
    "np.set_printoptions(threshold=np.inf)"
   ]
  },
  {
   "cell_type": "code",
   "execution_count": 11,
   "metadata": {},
   "outputs": [],
   "source": [
    "def plotError(real, wls, xs):\n",
    "    nBusAct = int(real.shape[1]/2);\n",
    "    nBus = int(xs.shape[1]/2);\n",
    "    nSim = xs.shape[0];\n",
    "    time_steps = xs.shape[2]\n",
    "\n",
    "    real_xs = real[:nSim,:,:]\n",
    "    wls_xs = wls[:nSim,:,:]\n",
    "\n",
    "    slack = -1\n",
    "    for idx, row in enumerate(real_xs[0,:,:]):\n",
    "        if np.sum(row) == 0:\n",
    "            slack = idx\n",
    "     \n",
    "    # calculating the relative errors\n",
    "    xs_e = np.zeros((nSim, (2 * nBusAct)-1, time_steps))\n",
    "    if slack == 0:\n",
    "        xs_e[:,:nBusAct-1,:] = (real_xs[:,1:nBusAct,:] - xs[:,1:nBusAct,:])*100/np.abs(real_xs[:,1:nBusAct,:])\n",
    "    elif slack == nBusAct - 1: \n",
    "        xs_e[:,:nBusAct-1,:] = (real_xs[:,:nBusAct-1,:] - xs[:,:nBusAct-1,:])*100/np.abs(real_xs[:,:nBusAct-1,:])\n",
    "    else:\n",
    "        print(\"Error\")\n",
    "    xs_e[:,nBusAct-1:,:] = (real_xs[:,nBusAct:,:] - xs[:,nBus:(nBus+nBusAct),:])*100/np.abs(real_xs[:,nBusAct:,:])\n",
    "   \n",
    "    wls_xs_e = np.zeros((nSim, (2 * nBusAct)-1, time_steps))\n",
    "    if slack == 0:\n",
    "        wls_xs_e[:,:nBusAct-1,:] = (real_xs[:,1:nBusAct,:] - wls_xs[:,1:nBusAct,:])*100/np.abs(real_xs[:,1:nBusAct,:])\n",
    "    elif slack == nBusAct - 1: \n",
    "        wls_xs_e[:,:nBusAct-1,:] = (real_xs[:,:nBusAct-1,:] - wls_xs_e[:,:nBusAct-1,:])*100/np.abs(real_xs[:,:nBusAct-1,:])\n",
    "    else:\n",
    "        print(\"Error\")\n",
    "    wls_xs_e[:,nBusAct-1:,:] = (real_xs[:,nBusAct:,:] - wls_xs[:,nBusAct:,:])*100/np.abs(real_xs[:,nBusAct:,:])\n",
    "    \n",
    "    plt.rcParams['figure.figsize'] = [15, 10]\n",
    "    bins = np.arange(-4,4,.05)\n",
    "    plt.hist([xs_e.ravel(),wls_xs_e.ravel()], bins=bins, color = ['g','b'], alpha =0.6, label = ['IEKF','WLS']);\n",
    "    plt.xlabel('% relative error');\n",
    "    plt.ylabel('counts');\n",
    "    plt.legend();\n",
    "    \n",
    "#     print(xs_e)"
   ]
  },
  {
   "cell_type": "code",
   "execution_count": 12,
   "metadata": {},
   "outputs": [],
   "source": [
    "real_xs = np.loadtxt('real_xs.txt')\n",
    "wls_xs = np.loadtxt('wls_xs.txt')\n",
    "xs = np.loadtxt('xs.txt')"
   ]
  },
  {
   "cell_type": "code",
   "execution_count": 13,
   "metadata": {},
   "outputs": [],
   "source": [
    "xs = xs.reshape(50,-1,50)\n",
    "real = real_xs.reshape(50,-1,50)\n",
    "wls = wls_xs.reshape(50,-1,50)"
   ]
  },
  {
   "cell_type": "code",
   "execution_count": 14,
   "metadata": {},
   "outputs": [
    {
     "data": {
      "image/png": "[encoded data removed]",
      "text/plain": [
       "<Figure size 1080x720 with 1 Axes>"
      ]
     },
     "metadata": {
      "needs_background": "light"
     },
     "output_type": "display_data"
    }
   ],
   "source": [
    "plotError(real, wls, xs[:6,:,:])"
   ]
  },
  {
   "cell_type": "code",
   "execution_count": null,
   "metadata": {},
   "outputs": [],
   "source": []
  }
 ],
 "metadata": {
  "kernelspec": {
   "display_name": "Python 3",
   "language": "python",
   "name": "python3"
  },
  "language_info": {
   "codemirror_mode": {
    "name": "ipython",
    "version": 3
   },
   "file_extension": ".py",
   "mimetype": "text/x-python",
   "name": "python",
   "nbconvert_exporter": "python",
   "pygments_lexer": "ipython3",
   "version": "3.7.2"
  }
 },
 "nbformat": 4,
 "nbformat_minor": 2
}
