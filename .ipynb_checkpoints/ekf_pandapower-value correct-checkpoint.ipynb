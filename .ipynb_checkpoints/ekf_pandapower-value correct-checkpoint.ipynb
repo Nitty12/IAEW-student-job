{
 "cells": [
  {
   "cell_type": "markdown",
   "metadata": {},
   "source": [
    "Import statements  \n",
    "Note: files Matrix_calc.py, ppc_conversion.py and matrix_base.py should be placed in the working directory"
   ]
  },
  {
   "cell_type": "code",
   "execution_count": 1,
   "metadata": {},
   "outputs": [],
   "source": [
    "import pandapower as pp\n",
    "from Matrix_calc import buildAdmittanceMat, eppci_conv, create_hx, create_jac_hx, create_jac_inp\n",
    "from pandapower.plotting.plotly import simple_plotly, pf_res_plotly\n",
    "from pandapower.estimation.results import eppci2pp\n",
    "from pandapower.estimation import estimate\n",
    "from ppc_conversion import PQ_indices\n",
    "import filterpy\n",
    "from filterpy.kalman import ExtendedKalmanFilter\n",
    "import simbench as sb\n",
    "import numpy as np\n",
    "import pandas as pd\n"
   ]
  },
  {
   "cell_type": "markdown",
   "metadata": {},
   "source": [
    "Setting print option for pandas dataframe to visualize maximum details"
   ]
  },
  {
   "cell_type": "code",
   "execution_count": 2,
   "metadata": {},
   "outputs": [],
   "source": [
    "pd.set_option('display.max_rows', 500)\n",
    "pd.set_option('display.max_columns', 500)\n",
    "pd.set_option('display.width', 1000)"
   ]
  },
  {
   "cell_type": "markdown",
   "metadata": {},
   "source": [
    "Retrieving sample distribution grid from simbench"
   ]
  },
  {
   "cell_type": "code",
   "execution_count": 3,
   "metadata": {},
   "outputs": [],
   "source": [
    "#retrieving sample grid from simbench\n",
    "sb_code = \"1-LV-rural1--0-sw\"\n",
    "net = sb.get_simbench_net(sb_code)\n",
    "# in simbench sgen is positive for generation but in pandapower sgen is negative for generation\n",
    "# converting positive value to negative for use in pandapower\n",
    "net.sgen.loc[:, ['p_mw', 'q_mvar']] *= -1\n"
   ]
  },
  {
   "cell_type": "markdown",
   "metadata": {},
   "source": [
    "Creating different measurements and adding it to the network  \n",
    "Measurements are the from the power flow result of the grid with an added random noise     \n",
    "\n",
    "Current measurements: $\\textbf{z}$  \n",
    "* P_(non slack buses)    \n",
    "* P_(slack buse)  \n",
    "* Q_(non slack buses)    \n",
    "* Q_(slack buse)  \n",
    "* P_(lines)    \n",
    "* Q_(lines)  \n",
    "* V_(slack buse)  "
   ]
  },
  {
   "cell_type": "code",
   "execution_count": 4,
   "metadata": {},
   "outputs": [],
   "source": [
    "# create measurements\n",
    "def make_meas(meas_type, element_type, value, std_dev, element, side=None):\n",
    "    # random gaussian noise to superimpose with the measurements\n",
    "    rvalue = std_dev * np.random.randn() + value\n",
    "    pp.create_measurement(net, meas_type=meas_type, element_type=element_type, value=rvalue, std_dev=std_dev,\n",
    "                          element=element, side=side, check_existing=True)\n",
    "\n",
    "\n",
    "def create_measurements():\n",
    "    # running power flow to know the state of the network to later compare with the estimation  result\n",
    "    pp.runpp(net)\n",
    "\n",
    "    # real state to compare with\n",
    "    real_state = net.res_bus.loc[:, ['vm_pu', 'va_degree']]\n",
    "\n",
    "    # bus measurements\n",
    "    bus_meas = net.res_bus.loc[:, ['vm_pu', 'p_mw', 'q_mvar']]\n",
    "\n",
    "    # line measurements\n",
    "    line_meas = net.res_line.loc[:, ['p_from_mw', 'q_from_mvar']]\n",
    "\n",
    "    # load measurements\n",
    "    load_meas = net.res_load.loc[:, ['p_mw', 'q_mvar']]\n",
    "\n",
    "    # static generator measurements\n",
    "    sgen_meas = net.res_sgen.loc[:, ['p_mw', 'q_mvar']]\n",
    "\n",
    "    # standard deviations\n",
    "    std_v_bus = 0.003  # in pu\n",
    "    std_pq_bus_pu = 0.001\n",
    "    std_pq_load_pu = 0.001\n",
    "    std_pq_sgen_pu = 0.001\n",
    "    std_pq_line_pu = 0.001\n",
    "\n",
    "    power_base = 0.160  # base power = 160 KVA\n",
    "    std_p_bus = std_pq_bus_pu * power_base\n",
    "    std_q_bus = std_pq_bus_pu * power_base\n",
    "    std_p_line = std_pq_line_pu * power_base\n",
    "    std_q_line = std_pq_line_pu * power_base\n",
    "    std_p_load = std_pq_load_pu * power_base\n",
    "    std_q_load = std_pq_load_pu * power_base\n",
    "    std_p_sgen = std_pq_sgen_pu * power_base\n",
    "    std_q_sgen = std_pq_sgen_pu * power_base\n",
    "\n",
    "    trafo_to_bus = net.trafo.loc[0, 'lv_bus']\n",
    "    trafo_from_bus = net.trafo.loc[0, 'hv_bus']\n",
    "\n",
    "    # # Bus power measurements\n",
    "    # Note: in pandapower for measurements, positive power is generation\n",
    "    #       but in power flow results(for buses) positive power is consumption\n",
    "    #       so changing the sign while calling make_meas\n",
    "    meas_type = \"p\"\n",
    "    element_type = \"bus\"\n",
    "    for i in bus_meas.index:\n",
    "        make_meas(meas_type, element_type, -1 * bus_meas.loc[i, 'p_mw'], std_p_bus, i)\n",
    "\n",
    "    # measurements of the bus to which the transformer is connected(Slack bus)\n",
    "    meas_type = \"p\"\n",
    "    element_type = \"bus\"\n",
    "    make_meas(meas_type, element_type, -1 * bus_meas.loc[trafo_from_bus, 'p_mw'], std_p_bus, trafo_from_bus)\n",
    "\n",
    "    # Line power measurements\n",
    "    meas_type = \"p\"\n",
    "    element_type = \"line\"\n",
    "    for i in line_meas.index:\n",
    "        make_meas(meas_type, element_type, line_meas.loc[i, 'p_from_mw'], std_p_line, i,\n",
    "                  side=net.line.loc[i, 'from_bus'])\n",
    "\n",
    "    # # Bus power measurements\n",
    "    # # Note: in pandapower for measurements, positive power is generation\n",
    "    # #       but in power flow results(for buses) positive power is consumption\n",
    "    # #       so changing the sign while calling make_meas\n",
    "    meas_type = \"q\"\n",
    "    element_type = \"bus\"\n",
    "    for i in bus_meas.index:\n",
    "        make_meas(meas_type, element_type, -1 * bus_meas.loc[i, 'q_mvar'], std_q_bus, i)\n",
    "\n",
    "    # measurements of the bus to which the transformer is connected(Slack bus)\n",
    "    meas_type = \"q\"\n",
    "    element_type = \"bus\"\n",
    "    make_meas(meas_type, element_type, -1 * bus_meas.loc[trafo_from_bus, 'q_mvar'], std_q_bus, trafo_from_bus)\n",
    "\n",
    "\n",
    "    meas_type = \"q\"\n",
    "    element_type = \"line\"\n",
    "    for i in line_meas.index:\n",
    "        make_meas(meas_type, element_type, line_meas.loc[i, 'q_from_mvar'], std_q_line, i,\n",
    "                  side=net.line.loc[i, 'from_bus'])\n",
    "\n",
    "    # # Bus voltage measurements\n",
    "    # meas_type = \"v\"\n",
    "    # element_type = \"bus\"\n",
    "    # for i in bus_meas.index:\n",
    "    #     make_meas(meas_type, element_type, bus_meas.loc[i, 'vm_pu'], std_v_bus, i)\n",
    "\n",
    "    # Slack bus voltage measurement\n",
    "    meas_type = \"v\"\n",
    "    element_type = \"bus\"\n",
    "    make_meas(meas_type, element_type, bus_meas.loc[trafo_from_bus, 'vm_pu'], std_v_bus, trafo_from_bus)\n",
    "\n",
    "    # print('\\n', \"net.measurements: \")\n",
    "    # print(net.measurement.loc[:, ['measurement_type', 'element_type', 'element', 'value', 'std_dev', 'side']])\n",
    "    # print(net.measurement.query('measurement_type == \"p\" and element_type ==\"bus\"')\n",
    "    #       .loc[:, ['measurement_type', 'element_type', 'element', 'value', 'std_dev']])\n",
    "\n",
    "\n",
    "create_measurements()\n"
   ]
  },
  {
   "cell_type": "markdown",
   "metadata": {},
   "source": [
    "# Kalman Filter problem formulation  "
   ]
  },
  {
   "cell_type": "markdown",
   "metadata": {},
   "source": [
    "The state vector x is the voltage magnitudes and phase angles of each bus.   \n",
    "state, $x = [\\theta_1..\\theta_N, V_1..V_N]^T$  \n",
    "If there are N number of buses, then we have active and reactive power injections $\\textbf{u}$ described as:  \n",
    "input, $u = [P_{bus}, Q_{bus}] = [P_1..P_N, Q_1..Q_N]^T$  \n",
    "Measurements, $z = [P_{bus}, Q_{bus}, P_{line}, Q_{line},V_{slack bus}]^T$  \n",
    "  \n",
    "Power flow equations:  \n",
    "$g_P = P_i - V_i\\sum_{j=1}^{N} V_j[G_{ij}cos\\theta_{ij} + B_{ij}sin\\theta_{ij}] = 0$  \n",
    "$g_Q = Q_i - V_i\\sum_{j=1}^{N} V_j[G_{ij}sin\\theta_{ij} - B_{ij}cos\\theta_{ij}] = 0$  \n",
    "  \n",
    "Linearising these power flow equations:  \n",
    "$-J\\Delta x + I\\Delta u +e = 0$  \n",
    "where $\\textit{J}$ is the jacobian of inputs P and Q wrt states $\\theta$ and V and $\\textit{I}$ is identity matrix    \n",
    "  \n",
    "$\\begin{equation*}\n",
    "J = \n",
    "\\begin{bmatrix}\n",
    "\\frac{\\delta g_P}{\\delta\\theta} & \\frac{\\delta g_P}{\\delta V} \\\\\n",
    "\\frac{\\delta g_Q}{\\delta\\theta} & \\frac{\\delta g_Q}{\\delta V} \\\\\n",
    "\\end{bmatrix}\n",
    "\\end{equation*}$  \n",
    "  \n",
    "Rearranging, we get:  \n",
    "$x_k = x_{k-1} + {J_k}^{-1} [u_{k} - u_{k-1}] + {J_k}^{-1} e$  \n",
    "  \n",
    "$Prediction=\\left\\{\\begin{array}\\\n",
    "x_k^- = x_{k-1}^+ + {J_k}^{-1} [u_{k} - u_{k-1}]\\\\\n",
    "P_k^- = P_{k-1}^+ + Q\\end{array}\\right.$\n",
    "  \n",
    "$Correction=\\left\\{\\begin{array}\\\n",
    "K_k = P_{k}^-{H_k}^T {(H_k{P_k}^-{H_k}^T + R)}^-1\\\\\n",
    "x_k^+ = x_{k}^- + {K_k}(z_{k} - h_{k})\\\\\n",
    "P_{k}^+ = (I - {K_k}H_k){P_k}^-\\end{array}\\right.$  \n",
    "  \n",
    "Where\n",
    "* $P_k$ is the state error covariance matrix at time step k\n",
    "* $Q$ is process noise caused due to linearization errors\n",
    "* $K$ is the Kalman gain\n",
    "* $R$ is the measurement covariance matrix\n",
    "* $H$ is the Jacobian matrix of the measurement function h\n",
    "* $J$ is the Jacobian matrix of the inputs P and Q injections\n",
    "* $z$ is measurement vector and $h$ is the measurement estimations"
   ]
  },
  {
   "cell_type": "markdown",
   "metadata": {},
   "source": [
    "Converting pandapower network to pypower network format $\\textbf{eppci}$  \n",
    "finding measurement estimations, measurement jacobian and input jacobian"
   ]
  },
  {
   "cell_type": "code",
   "execution_count": 5,
   "metadata": {
    "scrolled": true
   },
   "outputs": [],
   "source": [
    "YMat, Yf, Yt, ppc, eppci = buildAdmittanceMat(net, init=\"flat\", calculate_voltage_angles=False)\n",
    "h = create_hx(eppci.E, net, eppci)\n",
    "H = create_jac_hx(eppci.E, net, eppci)\n",
    "J = create_jac_inp(eppci.E, net, eppci)\n",
    "np.set_printoptions(threshold=np.inf)\n",
    "# print(H)"
   ]
  },
  {
   "cell_type": "markdown",
   "metadata": {},
   "source": [
    "Getting the input PQ injections"
   ]
  },
  {
   "cell_type": "code",
   "execution_count": 6,
   "metadata": {},
   "outputs": [],
   "source": [
    "net = eppci2pp(net, ppc, eppci)\n",
    "PQind = PQ_indices(ppc)\n",
    "PQ = eppci.z[PQind].reshape(-1,1)\n",
    "UkPrev = PQ"
   ]
  },
  {
   "cell_type": "markdown",
   "metadata": {},
   "source": [
    "In the Kalman filter model:  \n",
    "State transition matrix $F$ is identity matrix  \n",
    "$B$ matrix is the inverse of $J$  \n",
    "$x_k^- = x_{k-1}^+ + {J_k}^{-1} [u_{k} - u_{k-1}]$  \n",
    "$x_k^- = Fx_{k-1}^+ + B [u_{k} - u_{k-1}]$"
   ]
  },
  {
   "cell_type": "markdown",
   "metadata": {},
   "source": [
    "Creating the ExtendedKalmanFilter object for doing the prediction and correction steps  \n",
    "Setting the corresponding variables"
   ]
  },
  {
   "cell_type": "code",
   "execution_count": 7,
   "metadata": {},
   "outputs": [],
   "source": [
    "nBus = int(J.shape[0]/2)\n",
    "\n",
    "dk = ExtendedKalmanFilter(dim_x = 2*nBus, dim_z= len(net.measurement), dim_u= len(PQ))\n",
    "\n",
    "# finding the inverse of input jacobian\n",
    "J_mask = np.zeros((2*nBus, 2*nBus))\n",
    "for i in range(2*nBus):\n",
    "    for j in range(2*nBus):\n",
    "        if J[i, j] != 0:\n",
    "            J_mask[i, j] = 1\n",
    "        \n",
    "            \n",
    "A = np.eye(2*nBus)            \n",
    "J_inv = np.linalg.pinv(J)\n",
    "# J_inv[nBus:,:] = -1*J_inv[nBus:,:]\n",
    "B = J_inv\n",
    "# print(B)\n",
    "R = 0.001*np.eye(len(net.measurement))\n",
    "Q = 0.1*B*np.eye(2*nBus)\n",
    "\n",
    "eppci.E = eppci.E.reshape(-1,1)\n",
    "dk.x = eppci.E\n",
    "dk.F = A\n",
    "dk.B = B\n",
    "dk.R = R\n",
    "dk.Q = Q\n"
   ]
  },
  {
   "cell_type": "markdown",
   "metadata": {},
   "source": [
    "Getting the given load profile of the network, creating corresponding measurements and applying Kalman filter algorithm  "
   ]
  },
  {
   "cell_type": "code",
   "execution_count": 8,
   "metadata": {},
   "outputs": [
    {
     "name": "stderr",
     "output_type": "stream",
     "text": [
      "E:\\RWTH Aachen\\Sem 3\\IAEW\\simbench\\converter\\auxiliary.py:121: FutureWarning:\n",
      "\n",
      "Sorting because non-concatenation axis is not aligned. A future version\n",
      "of pandas will change to not sort by default.\n",
      "\n",
      "To accept the future behavior, pass 'sort=False'.\n",
      "\n",
      "To retain the current behavior and silence the warning, pass 'sort=True'.\n",
      "\n",
      "\n"
     ]
    },
    {
     "name": "stdout",
     "output_type": "stream",
     "text": [
      "0 1 2 3 4 5 6 7 8 9 10 11 12 13 14 15 16 17 18 19 20 21 22 23 24 25 26 27 28 29 30 31 32 33 34 35 36 37 38 39 40 41 42 43 44 45 46 47 48 49 "
     ]
    }
   ],
   "source": [
    "profiles = sb.get_absolute_values(net, profiles_instead_of_study_cases=True)\n",
    "\n",
    "# for storing the states\n",
    "time_steps = range(50)\n",
    "xs = np.zeros((2 * nBus, len(time_steps)))\n",
    "real_xs = np.zeros((2 * nBus, len(time_steps)))\n",
    "for ts in time_steps:\n",
    "    # updating the network with the given load profile and creating measurements\n",
    "    net.load.loc[:, 'p_mw'] = profiles[('load', 'p_mw')].loc[ts, :]\n",
    "    net.load.loc[:, 'q_mvar'] = profiles[('load', 'q_mvar')].loc[ts, :]\n",
    "    create_measurements()\n",
    "\n",
    "    # running power flow to know the state of the network to later compare with the estimation  result\n",
    "    pp.runpp(net)\n",
    "\n",
    "    # real state to compare with\n",
    "    real_va_degrees = net.res_bus.loc[:, ['va_degree']].values\n",
    "    real_vm_pu = net.res_bus.loc[:, ['vm_pu']].values\n",
    "    real_state = np.concatenate((real_va_degrees, real_vm_pu))\n",
    "\n",
    "    # Finding input jacobian at current state\n",
    "    net, ppc, eppci = eppci_conv(net)\n",
    "    J = create_jac_inp(eppci.E, net, eppci)\n",
    "\n",
    "    # Finding inverse of input jacobian\n",
    "#     J_inv = np.zeros((2 * nBus, 2 * nBus))\n",
    "#     for i in range(2 * nBus):\n",
    "#         for j in range(2 * nBus):\n",
    "#             if J[i, j] != 0:\n",
    "#                 J_inv[i, j] = 1 / J[i, j]\n",
    "    J_inv = np.linalg.pinv(J)\n",
    "#     J_inv[nBus:,:] = -1*J_inv[nBus:,:]\n",
    "    B = J_inv\n",
    "    dk.B = B\n",
    "    dk.Q = 0.1*B*np.eye(2*nBus)\n",
    "    \n",
    "    # Calling prediction step of kalman filter aobject\n",
    "    Uk = eppci.z[PQind].reshape(-1, 1)\n",
    "    deltaU = Uk - UkPrev\n",
    "    dk.predict(deltaU)\n",
    "\n",
    "    # Current measurements\n",
    "    z = eppci.z.reshape(-1, 1)\n",
    "\n",
    "    dk.x[:nBus] = dk.x[:nBus] - dk.x[nBus - 1]\n",
    "\n",
    "    # Calling correction step of kalman filter object\n",
    "    dk.update(z, create_jac_hx, create_hx, args=(net, eppci), hx_args=(net, eppci))\n",
    "\n",
    "    UkPrev = Uk\n",
    "    dk.x[:nBus] = dk.x[:nBus] - dk.x[nBus - 1]\n",
    "    \n",
    "    eppci.E = dk.x.ravel()\n",
    "    xs[:, ts] = eppci.E\n",
    "    real_xs[:, ts] = real_state.ravel()\n",
    "    print(ts, end=\" \")\n",
    "    \n",
    "xs[:15,:] = xs[:15,:]*(180/np.pi)"
   ]
  },
  {
   "cell_type": "code",
   "execution_count": 15,
   "metadata": {},
   "outputs": [
    {
     "name": "stdout",
     "output_type": "stream",
     "text": [
      "[-2.50453094 -2.49971082 -2.53351334 -2.48906038 -2.55539734 -2.55516579\n",
      " -2.54192691 -2.50299551 -2.5119158  -2.53738784 -2.53783607 -2.54181056\n",
      " -2.54146667 -2.54393561  0.          0.99843044  0.99952213  0.9969421\n",
      "  1.00011312  0.99278578  0.99281923  0.99599362  0.99939378  0.99891848\n",
      "  0.99726304  0.99754464  0.99593403  0.99752684  0.99492019  1.02360251]\n"
     ]
    }
   ],
   "source": [
    "print(xs[:,49])"
   ]
  },
  {
   "cell_type": "code",
   "execution_count": 10,
   "metadata": {
    "scrolled": true
   },
   "outputs": [
    {
     "name": "stdout",
     "output_type": "stream",
     "text": [
      "[-2.58508378 -2.5813543  -2.616956   -2.57065489 -2.64005738 -2.63977303\n",
      " -2.62617099 -2.58506671 -2.59378805 -2.62078909 -2.62132906 -2.62603696\n",
      " -2.62440311 -2.62823324  0.          0.99984523  1.00093887  0.99835086\n",
      "  1.0015313   0.99426022  0.99429327  0.99742734  1.00081367  1.00033869\n",
      "  0.99868575  0.99896969  0.99736759  0.998962    0.99635944  1.025     ]\n"
     ]
    }
   ],
   "source": [
    "print(real_xs[:,49])"
   ]
  },
  {
   "cell_type": "code",
   "execution_count": 26,
   "metadata": {},
   "outputs": [
    {
     "data": {
      "text/plain": [
       "[<matplotlib.lines.Line2D at 0x16ad4130>]"
      ]
     },
     "execution_count": 26,
     "metadata": {},
     "output_type": "execute_result"
    },
    {
     "data": {
      "image/png": "[encoded data removed]",
      "text/plain": [
       "<Figure size 432x288 with 1 Axes>"
      ]
     },
     "metadata": {
      "needs_background": "light"
     },
     "output_type": "display_data"
    }
   ],
   "source": [
    "from matplotlib.pyplot import plot\n",
    "num = 2\n",
    "plot(time_steps[5:], xs[num,5:],'r')\n"
   ]
  },
  {
   "cell_type": "code",
   "execution_count": 27,
   "metadata": {},
   "outputs": [
    {
     "data": {
      "text/plain": [
       "[<matplotlib.lines.Line2D at 0x17e4c790>]"
      ]
     },
     "execution_count": 27,
     "metadata": {},
     "output_type": "execute_result"
    },
    {
     "data": {
      "image/png": "[encoded data removed]",
      "text/plain": [
       "<Figure size 432x288 with 1 Axes>"
      ]
     },
     "metadata": {
      "needs_background": "light"
     },
     "output_type": "display_data"
    }
   ],
   "source": [
    "plot(time_steps[5:], real_xs[num,5:], 'b')\n"
   ]
  },
  {
   "cell_type": "code",
   "execution_count": 13,
   "metadata": {},
   "outputs": [
    {
     "name": "stdout",
     "output_type": "stream",
     "text": [
      "[[-9.15617346e-03]\n",
      " [-1.60845710e-03]\n",
      " [-3.49567556e-03]\n",
      " [-3.61272627e-04]\n",
      " [-9.00775468e-03]\n",
      " [-1.31812939e-03]\n",
      " [-4.20149174e-02]\n",
      " [-1.95274053e-02]\n",
      " [-2.47049919e-03]\n",
      " [-3.88760055e-03]\n",
      " [-7.98104268e-02]\n",
      " [-5.13998654e-03]\n",
      " [-2.35572650e-02]\n",
      " [-1.95123130e-03]\n",
      " [ 2.08447640e-01]\n",
      " [ 3.44002737e-03]\n",
      " [-1.26828521e-02]\n",
      " [-6.03731326e-02]\n",
      " [-2.58272276e-02]\n",
      " [ 8.75340655e-02]\n",
      " [ 7.56994673e-03]\n",
      " [ 1.06846825e-01]\n",
      " [-1.84362375e-02]\n",
      " [-1.05219165e-02]\n",
      " [ 9.00058403e-03]\n",
      " [-2.76896625e-02]\n",
      " [-2.30566529e-02]\n",
      " [-8.87471354e-03]\n",
      " [-2.16591063e-03]\n",
      " [-1.06888627e-03]\n",
      " [-2.36365442e-03]\n",
      " [ 1.28330497e-04]\n",
      " [-2.03340048e-03]\n",
      " [-6.27814162e-04]\n",
      " [-4.84415478e-04]\n",
      " [ 1.66053268e-04]\n",
      " [-4.00247815e-04]\n",
      " [-8.90897825e-04]\n",
      " [-2.48674201e-04]\n",
      " [-3.25227542e-03]\n",
      " [-1.02324712e-04]\n",
      " [-1.38127740e-03]\n",
      " [ 2.53792778e-02]\n",
      " [ 2.33195046e-03]\n",
      " [-4.44568339e-03]\n",
      " [-8.93491510e-03]\n",
      " [-6.68572310e-04]\n",
      " [ 3.84120007e-03]\n",
      " [ 3.25434468e-03]\n",
      " [ 3.69743987e-03]\n",
      " [-7.94013734e-03]\n",
      " [-3.06526655e-03]\n",
      " [ 2.06287689e-03]\n",
      " [-1.70421762e-03]\n",
      " [-1.86021447e-05]\n",
      " [-2.39112606e-03]\n",
      " [ 1.02358441e+00]]\n",
      "   measurement_type element_type  element     value\n",
      "0                 p          bus        0 -0.009156\n",
      "1                 p          bus        1 -0.001608\n",
      "2                 p          bus        2 -0.003496\n",
      "3                 p          bus        3 -0.000361\n",
      "4                 p          bus        4 -0.009008\n",
      "5                 p          bus        5 -0.001318\n",
      "6                 p          bus        6 -0.042015\n",
      "7                 p          bus        7 -0.019527\n",
      "8                 p          bus        8 -0.002470\n",
      "9                 p          bus        9 -0.003888\n",
      "10                p          bus       10 -0.079810\n",
      "11                p          bus       11 -0.005140\n",
      "12                p          bus       12 -0.023557\n",
      "13                p          bus       13 -0.001951\n",
      "14                p          bus       42  0.208448\n",
      "15                p         line        0  0.003440\n",
      "16                p         line        1 -0.012683\n",
      "17                p         line        2 -0.060373\n",
      "18                p         line        3 -0.025827\n",
      "19                p         line        4  0.087534\n",
      "20                p         line        5  0.007570\n",
      "21                p         line        6  0.106847\n",
      "22                p         line        7 -0.018436\n",
      "23                p         line        8 -0.010522\n",
      "24                p         line        9  0.009001\n",
      "25                p         line       10 -0.027690\n",
      "26                p         line       11 -0.023057\n",
      "27                p         line       12 -0.008875\n",
      "28                q          bus        0 -0.002166\n",
      "29                q          bus        1 -0.001069\n",
      "30                q          bus        2 -0.002364\n",
      "31                q          bus        3  0.000128\n",
      "32                q          bus        4 -0.002033\n",
      "33                q          bus        5 -0.000628\n",
      "34                q          bus        6 -0.000484\n",
      "35                q          bus        7  0.000166\n",
      "36                q          bus        8 -0.000400\n",
      "37                q          bus        9 -0.000891\n",
      "38                q          bus       10 -0.000249\n",
      "39                q          bus       11 -0.003252\n",
      "40                q          bus       12 -0.000102\n",
      "41                q          bus       13 -0.001381\n",
      "42                q          bus       42  0.025379\n",
      "43                q         line        0  0.002332\n",
      "44                q         line        1 -0.004446\n",
      "45                q         line        2 -0.008935\n",
      "46                q         line        3 -0.000669\n",
      "47                q         line        4  0.003841\n",
      "48                q         line        5  0.003254\n",
      "49                q         line        6  0.003697\n",
      "50                q         line        7 -0.007940\n",
      "51                q         line        8 -0.003065\n",
      "52                q         line        9  0.002063\n",
      "53                q         line       10 -0.001704\n",
      "54                q         line       11 -0.000019\n",
      "55                q         line       12 -0.002391\n",
      "56                v          bus       42  1.023584\n"
     ]
    }
   ],
   "source": [
    "eppci.E =  real_xs[:,49]\n",
    "h = create_hx(eppci.E, net, eppci)\n",
    "h_real = net.measurement.loc[:, ['value']].values\n",
    "print(h_real)\n",
    "print(net.measurement.loc[:, ['measurement_type', 'element_type', 'element', 'value']])"
   ]
  },
  {
   "cell_type": "code",
   "execution_count": 14,
   "metadata": {},
   "outputs": [
    {
     "name": "stdout",
     "output_type": "stream",
     "text": [
      "[-5.40743175e-02  7.57399500e+01  5.13312788e+01  5.67767914e+01\n",
      "  6.17266865e+01  5.96687867e+01  5.75176337e+01  5.75215816e+01\n",
      "  5.75946864e+01  5.83692263e+01  6.28046728e+01  5.74948687e+01\n",
      "  6.28361399e+01  6.00538827e+01  5.85202118e+01  5.84904574e+01\n",
      "  5.78088838e+01  5.71202452e+01  5.74909542e+01  5.76023512e+01\n",
      "  6.13940314e+01  5.88285519e+01  5.84044812e+01  5.72855324e+01\n",
      "  5.80854594e+01  5.75390496e+01  5.86336931e+01  5.79580571e+01\n",
      "  6.86030341e+01  5.99561365e+01  5.71362058e+01  5.70579888e+01\n",
      "  6.18304504e+01  7.62430456e+01  6.82740661e+01  5.51872759e+01\n",
      "  5.73577427e+01  5.83598252e+01  6.06472498e+01  6.32098659e+01\n",
      "  5.73957928e+01  8.05293865e+01  7.00648606e+01  5.67732979e+01\n",
      "  5.76808211e+01  5.81293548e+01  5.75571617e+01  7.74023183e+01\n",
      "  6.91716260e+01  5.54872530e+01]\n"
     ]
    }
   ],
   "source": [
    "print(xs[8,:]/real_xs[8,:])"
   ]
  },
  {
   "cell_type": "code",
   "execution_count": null,
   "metadata": {},
   "outputs": [],
   "source": []
  },
  {
   "cell_type": "code",
   "execution_count": null,
   "metadata": {},
   "outputs": [],
   "source": []
  }
 ],
 "metadata": {
  "kernelspec": {
   "display_name": "Python 3",
   "language": "python",
   "name": "python3"
  },
  "language_info": {
   "codemirror_mode": {
    "name": "ipython",
    "version": 3
   },
   "file_extension": ".py",
   "mimetype": "text/x-python",
   "name": "python",
   "nbconvert_exporter": "python",
   "pygments_lexer": "ipython3",
   "version": "3.7.2"
  }
 },
 "nbformat": 4,
 "nbformat_minor": 2
}
